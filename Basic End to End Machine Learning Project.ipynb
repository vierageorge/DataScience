{
 "cells": [
  {
   "cell_type": "markdown",
   "metadata": {},
   "source": [
    "# Basic End to End Machine Learning Project\n",
    "In this Notebook, I'll be showing the general basic steps to build a house pricing prediction model."
   ]
  },
  {
   "cell_type": "markdown",
   "metadata": {},
   "source": [
    "## Get the Data\n",
    "For this project, a csv with data on house pricing will be used."
   ]
  },
  {
   "cell_type": "code",
   "execution_count": 2,
   "metadata": {},
   "outputs": [],
   "source": [
    "from six.moves import urllib\n",
    "import tarfile\n",
    "import os\n",
    "\n",
    "DATA_FILE_URL = 'https://raw.githubusercontent.com/ageron/handson-ml/master/datasets/housing/housing.tgz'\n",
    "DEST_DATA_PATH = 'Data'\n",
    "\n",
    "if not os.path.isdir(DEST_DATA_PATH):\n",
    "    os.makedirs(DEST_DATA_PATH)\n",
    "tgz_path = os.path.join(DEST_DATA_PATH, \"housing.tgz\")\n",
    "urllib.request.urlretrieve(DATA_FILE_URL, tgz_path)\n",
    "housing_tgz = tarfile.open(tgz_path)\n",
    "housing_tgz.extractall(path=DEST_DATA_PATH)\n",
    "housing_tgz.close()"
   ]
  }
 ],
 "metadata": {
  "kernelspec": {
   "display_name": "Python 3",
   "language": "python",
   "name": "python3"
  },
  "language_info": {
   "codemirror_mode": {
    "name": "ipython",
    "version": 3
   },
   "file_extension": ".py",
   "mimetype": "text/x-python",
   "name": "python",
   "nbconvert_exporter": "python",
   "pygments_lexer": "ipython3",
   "version": "3.5.2"
  }
 },
 "nbformat": 4,
 "nbformat_minor": 2
}
