{
  "nbformat": 4,
  "nbformat_minor": 0,
  "metadata": {
    "kernelspec": {
      "display_name": "Python 3",
      "language": "python",
      "name": "python3"
    },
    "language_info": {
      "codemirror_mode": {
        "name": "ipython",
        "version": 3
      },
      "file_extension": ".py",
      "mimetype": "text/x-python",
      "name": "python",
      "nbconvert_exporter": "python",
      "pygments_lexer": "ipython3",
      "version": "3.5.2"
    },
    "colab": {
      "name": "Desmitificando Numpy.ipynb",
      "provenance": [],
      "toc_visible": true
    }
  },
  "cells": [
    {
      "cell_type": "markdown",
      "metadata": {
        "id": "in7o3Y9iiooC",
        "colab_type": "text"
      },
      "source": [
        "# Desmitificando Numpy\n",
        "* [Abrir este Notebook en Google Colab](https://colab.research.google.com/github/vierageorge/DataScience/blob/master/ES/Desmitificando%20Numpy.ipynb)\\\n",
        "La información, generalmente, puede ser representada como un arreglo de números. Por ende, el almacenamiento y manipulación eficiente de éste tipo de arreglos es muy importante para la Ciencia de Datos. **Numpy es un paquete en Python que, precisamente, provee una interfaz más eficiente para almacenar y manipular arreglos numéricos** que las estructuras de datos tipo ```list```, naturales de Python."
      ]
    },
    {
      "cell_type": "markdown",
      "metadata": {
        "id": "KQ8j1QWTitUq",
        "colab_type": "text"
      },
      "source": [
        "# Sección nueva"
      ]
    }
  ]
}