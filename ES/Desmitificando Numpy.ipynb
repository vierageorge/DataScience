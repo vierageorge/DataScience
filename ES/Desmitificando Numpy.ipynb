{
 "cells": [
  {
   "cell_type": "markdown",
   "metadata": {},
   "source": [
    "# Desmitificando Numpy\n",
    "* [Abrir este Notebook en Google Colab](https://colab.research.google.com/github/vierageorge/DataScience/blob/master/ES/Desmitificando%20Numpy.ipynb)\\\n",
    "La información, generalmente, puede ser representada como un arreglo de números. Por ende, el almacenamiento y manipulación eficiente de éste tipo de arreglos es muy importante para la Ciencia de Datos. **Numpy es un paquete en Python que, precisamente, provee una interfaz más eficiente para almacenar y manipular arreglos numéricos** que las estructuras de datos tipo ```list```, naturales de Python."
   ]
  }
 ],
 "metadata": {
  "kernelspec": {
   "display_name": "Python 3",
   "language": "python",
   "name": "python3"
  },
  "language_info": {
   "codemirror_mode": {
    "name": "ipython",
    "version": 3
   },
   "file_extension": ".py",
   "mimetype": "text/x-python",
   "name": "python",
   "nbconvert_exporter": "python",
   "pygments_lexer": "ipython3",
   "version": "3.5.2"
  }
 },
 "nbformat": 4,
 "nbformat_minor": 2
}
